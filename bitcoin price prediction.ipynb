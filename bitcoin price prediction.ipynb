{
 "cells": [
  {
   "cell_type": "code",
   "execution_count": 1,
   "id": "357ed5dd",
   "metadata": {},
   "outputs": [],
   "source": [
    "import warnings\n",
    "warnings.filterwarnings('ignore')"
   ]
  },
  {
   "cell_type": "markdown",
   "id": "6afa0d92",
   "metadata": {},
   "source": [
    "# Data Preprocessing"
   ]
  },
  {
   "cell_type": "code",
   "execution_count": 2,
   "id": "ecadd811",
   "metadata": {},
   "outputs": [],
   "source": [
    "import pandas as pd"
   ]
  },
  {
   "cell_type": "code",
   "execution_count": 3,
   "id": "c89ecde6",
   "metadata": {},
   "outputs": [],
   "source": [
    "data = pd.read_csv('BTC_USD_Price_Prediction_Data.csv')"
   ]
  },
  {
   "cell_type": "code",
   "execution_count": 4,
   "id": "1d93d252",
   "metadata": {},
   "outputs": [
    {
     "data": {
      "text/html": [
       "<div>\n",
       "<style scoped>\n",
       "    .dataframe tbody tr th:only-of-type {\n",
       "        vertical-align: middle;\n",
       "    }\n",
       "\n",
       "    .dataframe tbody tr th {\n",
       "        vertical-align: top;\n",
       "    }\n",
       "\n",
       "    .dataframe thead th {\n",
       "        text-align: right;\n",
       "    }\n",
       "</style>\n",
       "<table border=\"1\" class=\"dataframe\">\n",
       "  <thead>\n",
       "    <tr style=\"text-align: right;\">\n",
       "      <th></th>\n",
       "      <th>Unnamed: 0</th>\n",
       "      <th>Currency</th>\n",
       "      <th>Date</th>\n",
       "      <th>Closing Price (USD)</th>\n",
       "      <th>24h Open (USD)</th>\n",
       "      <th>24h High (USD)</th>\n",
       "      <th>24h Low (USD)</th>\n",
       "    </tr>\n",
       "  </thead>\n",
       "  <tbody>\n",
       "    <tr>\n",
       "      <th>0</th>\n",
       "      <td>0</td>\n",
       "      <td>BTC</td>\n",
       "      <td>2014-03-14</td>\n",
       "      <td>124.65499</td>\n",
       "      <td>125.30466</td>\n",
       "      <td>125.75166</td>\n",
       "      <td>123.56349</td>\n",
       "    </tr>\n",
       "    <tr>\n",
       "      <th>1</th>\n",
       "      <td>1</td>\n",
       "      <td>BTC</td>\n",
       "      <td>2014-03-15</td>\n",
       "      <td>126.45500</td>\n",
       "      <td>124.65499</td>\n",
       "      <td>126.75850</td>\n",
       "      <td>124.63383</td>\n",
       "    </tr>\n",
       "    <tr>\n",
       "      <th>2</th>\n",
       "      <td>2</td>\n",
       "      <td>BTC</td>\n",
       "      <td>2014-03-16</td>\n",
       "      <td>109.58483</td>\n",
       "      <td>126.45500</td>\n",
       "      <td>126.66566</td>\n",
       "      <td>84.32833</td>\n",
       "    </tr>\n",
       "    <tr>\n",
       "      <th>3</th>\n",
       "      <td>3</td>\n",
       "      <td>BTC</td>\n",
       "      <td>2014-03-17</td>\n",
       "      <td>119.67466</td>\n",
       "      <td>109.58483</td>\n",
       "      <td>119.67500</td>\n",
       "      <td>108.05816</td>\n",
       "    </tr>\n",
       "    <tr>\n",
       "      <th>4</th>\n",
       "      <td>4</td>\n",
       "      <td>BTC</td>\n",
       "      <td>2014-03-18</td>\n",
       "      <td>122.33866</td>\n",
       "      <td>119.67466</td>\n",
       "      <td>122.93633</td>\n",
       "      <td>119.00566</td>\n",
       "    </tr>\n",
       "  </tbody>\n",
       "</table>\n",
       "</div>"
      ],
      "text/plain": [
       "   Unnamed: 0 Currency        Date  Closing Price (USD)  24h Open (USD)  \\\n",
       "0           0      BTC  2014-03-14            124.65499       125.30466   \n",
       "1           1      BTC  2014-03-15            126.45500       124.65499   \n",
       "2           2      BTC  2014-03-16            109.58483       126.45500   \n",
       "3           3      BTC  2014-03-17            119.67466       109.58483   \n",
       "4           4      BTC  2014-03-18            122.33866       119.67466   \n",
       "\n",
       "   24h High (USD)  24h Low (USD)  \n",
       "0       125.75166      123.56349  \n",
       "1       126.75850      124.63383  \n",
       "2       126.66566       84.32833  \n",
       "3       119.67500      108.05816  \n",
       "4       122.93633      119.00566  "
      ]
     },
     "execution_count": 4,
     "metadata": {},
     "output_type": "execute_result"
    }
   ],
   "source": [
    "data.head()"
   ]
  },
  {
   "cell_type": "code",
   "execution_count": 5,
   "id": "beb338ae",
   "metadata": {},
   "outputs": [
    {
     "data": {
      "text/plain": [
       "(2787, 7)"
      ]
     },
     "execution_count": 5,
     "metadata": {},
     "output_type": "execute_result"
    }
   ],
   "source": [
    "data.shape"
   ]
  },
  {
   "cell_type": "code",
   "execution_count": 6,
   "id": "9c7c6095",
   "metadata": {},
   "outputs": [
    {
     "data": {
      "text/plain": [
       "Unnamed: 0             0\n",
       "Currency               0\n",
       "Date                   0\n",
       "Closing Price (USD)    0\n",
       "24h Open (USD)         0\n",
       "24h High (USD)         0\n",
       "24h Low (USD)          0\n",
       "dtype: int64"
      ]
     },
     "execution_count": 6,
     "metadata": {},
     "output_type": "execute_result"
    }
   ],
   "source": [
    "# To check is there is any null data on the dataset\n",
    "data.isnull().sum()"
   ]
  },
  {
   "cell_type": "code",
   "execution_count": 7,
   "id": "27f25bee",
   "metadata": {},
   "outputs": [],
   "source": [
    "del data['Unnamed: 0']"
   ]
  },
  {
   "cell_type": "code",
   "execution_count": 8,
   "id": "d94a4577",
   "metadata": {},
   "outputs": [
    {
     "data": {
      "text/plain": [
       "Index(['Currency', 'Date', 'Closing Price (USD)', '24h Open (USD)',\n",
       "       '24h High (USD)', '24h Low (USD)'],\n",
       "      dtype='object')"
      ]
     },
     "execution_count": 8,
     "metadata": {},
     "output_type": "execute_result"
    }
   ],
   "source": [
    "data.columns"
   ]
  },
  {
   "cell_type": "code",
   "execution_count": 9,
   "id": "78a11b3e",
   "metadata": {},
   "outputs": [
    {
     "name": "stdout",
     "output_type": "stream",
     "text": [
      "<class 'pandas.core.frame.DataFrame'>\n",
      "RangeIndex: 2787 entries, 0 to 2786\n",
      "Data columns (total 6 columns):\n",
      " #   Column               Non-Null Count  Dtype  \n",
      "---  ------               --------------  -----  \n",
      " 0   Currency             2787 non-null   object \n",
      " 1   Date                 2787 non-null   object \n",
      " 2   Closing Price (USD)  2787 non-null   float64\n",
      " 3   24h Open (USD)       2787 non-null   float64\n",
      " 4   24h High (USD)       2787 non-null   float64\n",
      " 5   24h Low (USD)        2787 non-null   float64\n",
      "dtypes: float64(4), object(2)\n",
      "memory usage: 130.8+ KB\n"
     ]
    }
   ],
   "source": [
    "data.info()"
   ]
  },
  {
   "cell_type": "code",
   "execution_count": 10,
   "id": "ed279a16",
   "metadata": {},
   "outputs": [
    {
     "data": {
      "text/plain": [
       "array(['BTC'], dtype=object)"
      ]
     },
     "execution_count": 10,
     "metadata": {},
     "output_type": "execute_result"
    }
   ],
   "source": [
    "data.Currency.unique()"
   ]
  },
  {
   "cell_type": "code",
   "execution_count": 11,
   "id": "f5751ea0",
   "metadata": {},
   "outputs": [
    {
     "data": {
      "text/plain": [
       "array(['2014-03-14', '2014-03-15', '2014-03-16', ..., '2021-10-27',\n",
       "       '2021-10-28', '2021-10-29'], dtype=object)"
      ]
     },
     "execution_count": 11,
     "metadata": {},
     "output_type": "execute_result"
    }
   ],
   "source": [
    "data.Date.unique()"
   ]
  },
  {
   "cell_type": "code",
   "execution_count": 12,
   "id": "14bfb5d3",
   "metadata": {},
   "outputs": [
    {
     "data": {
      "text/plain": [
       "array([  125.75166   ,   126.7585    ,   126.66566   , ...,\n",
       "       50691.80294954, 49671.41417381, 46623.85343748])"
      ]
     },
     "execution_count": 12,
     "metadata": {},
     "output_type": "execute_result"
    }
   ],
   "source": [
    "data['24h High (USD)'].unique()"
   ]
  },
  {
   "cell_type": "code",
   "execution_count": 13,
   "id": "41f2e06b",
   "metadata": {},
   "outputs": [
    {
     "data": {
      "text/plain": [
       "2787"
      ]
     },
     "execution_count": 13,
     "metadata": {},
     "output_type": "execute_result"
    }
   ],
   "source": [
    "data['24h High (USD)'].nunique()"
   ]
  },
  {
   "cell_type": "code",
   "execution_count": 14,
   "id": "c41a4cc1",
   "metadata": {},
   "outputs": [
    {
     "data": {
      "text/html": [
       "<div>\n",
       "<style scoped>\n",
       "    .dataframe tbody tr th:only-of-type {\n",
       "        vertical-align: middle;\n",
       "    }\n",
       "\n",
       "    .dataframe tbody tr th {\n",
       "        vertical-align: top;\n",
       "    }\n",
       "\n",
       "    .dataframe thead th {\n",
       "        text-align: right;\n",
       "    }\n",
       "</style>\n",
       "<table border=\"1\" class=\"dataframe\">\n",
       "  <thead>\n",
       "    <tr style=\"text-align: right;\">\n",
       "      <th></th>\n",
       "      <th>Closing Price (USD)</th>\n",
       "      <th>24h Open (USD)</th>\n",
       "      <th>24h High (USD)</th>\n",
       "      <th>24h Low (USD)</th>\n",
       "    </tr>\n",
       "  </thead>\n",
       "  <tbody>\n",
       "    <tr>\n",
       "      <th>count</th>\n",
       "      <td>2787.000000</td>\n",
       "      <td>2787.000000</td>\n",
       "      <td>2787.000000</td>\n",
       "      <td>2787.000000</td>\n",
       "    </tr>\n",
       "    <tr>\n",
       "      <th>mean</th>\n",
       "      <td>6530.845141</td>\n",
       "      <td>6514.579485</td>\n",
       "      <td>6711.061683</td>\n",
       "      <td>6303.417386</td>\n",
       "    </tr>\n",
       "    <tr>\n",
       "      <th>std</th>\n",
       "      <td>10887.847444</td>\n",
       "      <td>10863.800772</td>\n",
       "      <td>11206.779756</td>\n",
       "      <td>10475.811252</td>\n",
       "    </tr>\n",
       "    <tr>\n",
       "      <th>min</th>\n",
       "      <td>109.584830</td>\n",
       "      <td>109.584830</td>\n",
       "      <td>119.675000</td>\n",
       "      <td>84.328330</td>\n",
       "    </tr>\n",
       "    <tr>\n",
       "      <th>25%</th>\n",
       "      <td>461.087500</td>\n",
       "      <td>460.400500</td>\n",
       "      <td>470.720995</td>\n",
       "      <td>451.818830</td>\n",
       "    </tr>\n",
       "    <tr>\n",
       "      <th>50%</th>\n",
       "      <td>2781.182500</td>\n",
       "      <td>2773.367500</td>\n",
       "      <td>2875.696250</td>\n",
       "      <td>2697.457500</td>\n",
       "    </tr>\n",
       "    <tr>\n",
       "      <th>75%</th>\n",
       "      <td>8507.923720</td>\n",
       "      <td>8497.887593</td>\n",
       "      <td>8764.291985</td>\n",
       "      <td>8222.060570</td>\n",
       "    </tr>\n",
       "    <tr>\n",
       "      <th>max</th>\n",
       "      <td>63347.789035</td>\n",
       "      <td>63563.673545</td>\n",
       "      <td>64802.787870</td>\n",
       "      <td>62095.632914</td>\n",
       "    </tr>\n",
       "  </tbody>\n",
       "</table>\n",
       "</div>"
      ],
      "text/plain": [
       "       Closing Price (USD)  24h Open (USD)  24h High (USD)  24h Low (USD)\n",
       "count          2787.000000     2787.000000     2787.000000    2787.000000\n",
       "mean           6530.845141     6514.579485     6711.061683    6303.417386\n",
       "std           10887.847444    10863.800772    11206.779756   10475.811252\n",
       "min             109.584830      109.584830      119.675000      84.328330\n",
       "25%             461.087500      460.400500      470.720995     451.818830\n",
       "50%            2781.182500     2773.367500     2875.696250    2697.457500\n",
       "75%            8507.923720     8497.887593     8764.291985    8222.060570\n",
       "max           63347.789035    63563.673545    64802.787870   62095.632914"
      ]
     },
     "execution_count": 14,
     "metadata": {},
     "output_type": "execute_result"
    }
   ],
   "source": [
    "data.describe()"
   ]
  },
  {
   "cell_type": "code",
   "execution_count": 15,
   "id": "f1eaebe7",
   "metadata": {},
   "outputs": [
    {
     "data": {
      "text/html": [
       "<div>\n",
       "<style scoped>\n",
       "    .dataframe tbody tr th:only-of-type {\n",
       "        vertical-align: middle;\n",
       "    }\n",
       "\n",
       "    .dataframe tbody tr th {\n",
       "        vertical-align: top;\n",
       "    }\n",
       "\n",
       "    .dataframe thead th {\n",
       "        text-align: right;\n",
       "    }\n",
       "</style>\n",
       "<table border=\"1\" class=\"dataframe\">\n",
       "  <thead>\n",
       "    <tr style=\"text-align: right;\">\n",
       "      <th></th>\n",
       "      <th>Closing Price (USD)</th>\n",
       "      <th>24h Open (USD)</th>\n",
       "      <th>24h High (USD)</th>\n",
       "      <th>24h Low (USD)</th>\n",
       "    </tr>\n",
       "  </thead>\n",
       "  <tbody>\n",
       "    <tr>\n",
       "      <th>Closing Price (USD)</th>\n",
       "      <td>1.000000</td>\n",
       "      <td>0.998892</td>\n",
       "      <td>0.999527</td>\n",
       "      <td>0.999403</td>\n",
       "    </tr>\n",
       "    <tr>\n",
       "      <th>24h Open (USD)</th>\n",
       "      <td>0.998892</td>\n",
       "      <td>1.000000</td>\n",
       "      <td>0.999476</td>\n",
       "      <td>0.999096</td>\n",
       "    </tr>\n",
       "    <tr>\n",
       "      <th>24h High (USD)</th>\n",
       "      <td>0.999527</td>\n",
       "      <td>0.999476</td>\n",
       "      <td>1.000000</td>\n",
       "      <td>0.999028</td>\n",
       "    </tr>\n",
       "    <tr>\n",
       "      <th>24h Low (USD)</th>\n",
       "      <td>0.999403</td>\n",
       "      <td>0.999096</td>\n",
       "      <td>0.999028</td>\n",
       "      <td>1.000000</td>\n",
       "    </tr>\n",
       "  </tbody>\n",
       "</table>\n",
       "</div>"
      ],
      "text/plain": [
       "                     Closing Price (USD)  24h Open (USD)  24h High (USD)  \\\n",
       "Closing Price (USD)             1.000000        0.998892        0.999527   \n",
       "24h Open (USD)                  0.998892        1.000000        0.999476   \n",
       "24h High (USD)                  0.999527        0.999476        1.000000   \n",
       "24h Low (USD)                   0.999403        0.999096        0.999028   \n",
       "\n",
       "                     24h Low (USD)  \n",
       "Closing Price (USD)       0.999403  \n",
       "24h Open (USD)            0.999096  \n",
       "24h High (USD)            0.999028  \n",
       "24h Low (USD)             1.000000  "
      ]
     },
     "execution_count": 15,
     "metadata": {},
     "output_type": "execute_result"
    }
   ],
   "source": [
    "data.corr()"
   ]
  },
  {
   "cell_type": "markdown",
   "id": "0d1c55c6",
   "metadata": {},
   "source": [
    "# Data visualization"
   ]
  },
  {
   "cell_type": "code",
   "execution_count": 16,
   "id": "bd1d25cd",
   "metadata": {},
   "outputs": [],
   "source": [
    "import matplotlib.pyplot as plt\n",
    "import seaborn as sns"
   ]
  },
  {
   "cell_type": "code",
   "execution_count": 17,
   "id": "3c1be532",
   "metadata": {},
   "outputs": [
    {
     "data": {
      "text/html": [
       "<div>\n",
       "<style scoped>\n",
       "    .dataframe tbody tr th:only-of-type {\n",
       "        vertical-align: middle;\n",
       "    }\n",
       "\n",
       "    .dataframe tbody tr th {\n",
       "        vertical-align: top;\n",
       "    }\n",
       "\n",
       "    .dataframe thead th {\n",
       "        text-align: right;\n",
       "    }\n",
       "</style>\n",
       "<table border=\"1\" class=\"dataframe\">\n",
       "  <thead>\n",
       "    <tr style=\"text-align: right;\">\n",
       "      <th></th>\n",
       "      <th>Currency</th>\n",
       "      <th>Date</th>\n",
       "      <th>Closing Price (USD)</th>\n",
       "      <th>24h Open (USD)</th>\n",
       "      <th>24h High (USD)</th>\n",
       "      <th>24h Low (USD)</th>\n",
       "    </tr>\n",
       "  </thead>\n",
       "  <tbody>\n",
       "    <tr>\n",
       "      <th>0</th>\n",
       "      <td>BTC</td>\n",
       "      <td>2014-03-14</td>\n",
       "      <td>124.65499</td>\n",
       "      <td>125.30466</td>\n",
       "      <td>125.75166</td>\n",
       "      <td>123.56349</td>\n",
       "    </tr>\n",
       "    <tr>\n",
       "      <th>1</th>\n",
       "      <td>BTC</td>\n",
       "      <td>2014-03-15</td>\n",
       "      <td>126.45500</td>\n",
       "      <td>124.65499</td>\n",
       "      <td>126.75850</td>\n",
       "      <td>124.63383</td>\n",
       "    </tr>\n",
       "    <tr>\n",
       "      <th>2</th>\n",
       "      <td>BTC</td>\n",
       "      <td>2014-03-16</td>\n",
       "      <td>109.58483</td>\n",
       "      <td>126.45500</td>\n",
       "      <td>126.66566</td>\n",
       "      <td>84.32833</td>\n",
       "    </tr>\n",
       "    <tr>\n",
       "      <th>3</th>\n",
       "      <td>BTC</td>\n",
       "      <td>2014-03-17</td>\n",
       "      <td>119.67466</td>\n",
       "      <td>109.58483</td>\n",
       "      <td>119.67500</td>\n",
       "      <td>108.05816</td>\n",
       "    </tr>\n",
       "    <tr>\n",
       "      <th>4</th>\n",
       "      <td>BTC</td>\n",
       "      <td>2014-03-18</td>\n",
       "      <td>122.33866</td>\n",
       "      <td>119.67466</td>\n",
       "      <td>122.93633</td>\n",
       "      <td>119.00566</td>\n",
       "    </tr>\n",
       "  </tbody>\n",
       "</table>\n",
       "</div>"
      ],
      "text/plain": [
       "  Currency        Date  Closing Price (USD)  24h Open (USD)  24h High (USD)  \\\n",
       "0      BTC  2014-03-14            124.65499       125.30466       125.75166   \n",
       "1      BTC  2014-03-15            126.45500       124.65499       126.75850   \n",
       "2      BTC  2014-03-16            109.58483       126.45500       126.66566   \n",
       "3      BTC  2014-03-17            119.67466       109.58483       119.67500   \n",
       "4      BTC  2014-03-18            122.33866       119.67466       122.93633   \n",
       "\n",
       "   24h Low (USD)  \n",
       "0      123.56349  \n",
       "1      124.63383  \n",
       "2       84.32833  \n",
       "3      108.05816  \n",
       "4      119.00566  "
      ]
     },
     "execution_count": 17,
     "metadata": {},
     "output_type": "execute_result"
    }
   ],
   "source": [
    "data.head()"
   ]
  },
  {
   "cell_type": "code",
   "execution_count": 18,
   "id": "2e21a225",
   "metadata": {},
   "outputs": [
    {
     "data": {
      "image/png": "[encoded data removed]",
      "text/plain": [
       "<Figure size 2000x800 with 1 Axes>"
      ]
     },
     "metadata": {},
     "output_type": "display_data"
    }
   ],
   "source": [
    "plt.figure(figsize=(20,8))\n",
    "sns.histplot(data, x='Closing Price (USD)')\n",
    "plt.show()"
   ]
  },
  {
   "cell_type": "code",
   "execution_count": 19,
   "id": "c399691f",
   "metadata": {},
   "outputs": [
    {
     "data": {
      "image/png": "[encoded data removed]",
      "text/plain": [
       "<Figure size 640x480 with 1 Axes>"
      ]
     },
     "metadata": {},
     "output_type": "display_data"
    }
   ],
   "source": [
    "sns.scatterplot(x=data['24h High (USD)'], y=data['24h Low (USD)'])\n",
    "plt.show()"
   ]
  },
  {
   "cell_type": "code",
   "execution_count": 20,
   "id": "c47400f7",
   "metadata": {},
   "outputs": [
    {
     "data": {
      "image/png": "[encoded data removed]",
      "text/plain": [
       "<Figure size 2000x800 with 2 Axes>"
      ]
     },
     "metadata": {},
     "output_type": "display_data"
    }
   ],
   "source": [
    "plt.figure(figsize=(20,8))\n",
    "sns.heatmap(data.corr(), annot=True, cmap='RdPu')\n",
    "plt.show()"
   ]
  },
  {
   "cell_type": "markdown",
   "id": "a7c09a37",
   "metadata": {},
   "source": [
    "# Implementing algorithm"
   ]
  },
  {
   "cell_type": "code",
   "execution_count": 21,
   "id": "58d1dcc4",
   "metadata": {},
   "outputs": [
    {
     "data": {
      "text/plain": [
       "Index(['Currency', 'Date', 'Closing Price (USD)', '24h Open (USD)',\n",
       "       '24h High (USD)', '24h Low (USD)'],\n",
       "      dtype='object')"
      ]
     },
     "execution_count": 21,
     "metadata": {},
     "output_type": "execute_result"
    }
   ],
   "source": [
    "data.columns"
   ]
  },
  {
   "cell_type": "code",
   "execution_count": 22,
   "id": "0f891739",
   "metadata": {},
   "outputs": [],
   "source": [
    "del data['Currency']\n",
    "del data['Date']"
   ]
  },
  {
   "cell_type": "code",
   "execution_count": 23,
   "id": "11958de6",
   "metadata": {},
   "outputs": [
    {
     "data": {
      "text/plain": [
       "Index(['Closing Price (USD)', '24h Open (USD)', '24h High (USD)',\n",
       "       '24h Low (USD)'],\n",
       "      dtype='object')"
      ]
     },
     "execution_count": 23,
     "metadata": {},
     "output_type": "execute_result"
    }
   ],
   "source": [
    "data.columns"
   ]
  },
  {
   "cell_type": "code",
   "execution_count": 24,
   "id": "f483e78f",
   "metadata": {},
   "outputs": [],
   "source": [
    "X = data.drop(labels=['Closing Price (USD)'], axis=1)\n",
    "y = data['Closing Price (USD)']"
   ]
  },
  {
   "cell_type": "code",
   "execution_count": 25,
   "id": "2cd2046e",
   "metadata": {},
   "outputs": [],
   "source": [
    "from sklearn.model_selection import train_test_split\n",
    "X_train, X_test, y_train, y_test = train_test_split(X, y, test_size=0.25, random_state=20)"
   ]
  },
  {
   "cell_type": "code",
   "execution_count": 26,
   "id": "e125e067",
   "metadata": {},
   "outputs": [
    {
     "name": "stdout",
     "output_type": "stream",
     "text": [
      "(2090, 3) (2090,) (697, 3) (697,)\n"
     ]
    }
   ],
   "source": [
    "print(X_train.shape, y_train.shape, X_test.shape, y_test.shape)"
   ]
  },
  {
   "cell_type": "code",
   "execution_count": 27,
   "id": "27b1d386",
   "metadata": {},
   "outputs": [],
   "source": [
    "from sklearn.linear_model import LinearRegression\n",
    "from sklearn.tree import DecisionTreeRegressor\n",
    "from sklearn.ensemble import RandomForestRegressor, AdaBoostRegressor, GradientBoostingRegressor, VotingRegressor\n",
    "from xgboost import XGBRegressor\n",
    "from catboost import CatBoostRegressor\n",
    "from sklearn.metrics import r2_score, mean_absolute_error, mean_squared_error"
   ]
  },
  {
   "cell_type": "markdown",
   "id": "b7449dc7",
   "metadata": {},
   "source": [
    "#### Implementing LinearRegression"
   ]
  },
  {
   "cell_type": "code",
   "execution_count": 28,
   "id": "5b665f60",
   "metadata": {},
   "outputs": [
    {
     "data": {
      "text/plain": [
       "LinearRegression()"
      ]
     },
     "execution_count": 28,
     "metadata": {},
     "output_type": "execute_result"
    }
   ],
   "source": [
    "LinR = LinearRegression()\n",
    "LinR.fit(X_train, y_train)"
   ]
  },
  {
   "cell_type": "code",
   "execution_count": 29,
   "id": "3d867dd4",
   "metadata": {},
   "outputs": [
    {
     "name": "stdout",
     "output_type": "stream",
     "text": [
      "R2score of the Linear Regression is 0.999627990800148\n",
      "Mean absolute error  of the Linear Regression is 73.70894505829915\n",
      "Mean squared error of the Linear Regression is 41409.417572800376\n"
     ]
    }
   ],
   "source": [
    "predicted_LinR = LinR.predict(X_test)\n",
    "print('R2score of the Linear Regression is',r2_score(y_test,predicted_LinR))\n",
    "\n",
    "print('Mean absolute error  of the Linear Regression is',mean_absolute_error(y_test,predicted_LinR))\n",
    "\n",
    "print('Mean squared error of the Linear Regression is',mean_squared_error(y_test,predicted_LinR))"
   ]
  },
  {
   "cell_type": "markdown",
   "id": "db63c19a",
   "metadata": {},
   "source": [
    "#### Implementing DecisionTreeRegressor"
   ]
  },
  {
   "cell_type": "code",
   "execution_count": 30,
   "id": "d6b6e809",
   "metadata": {},
   "outputs": [
    {
     "name": "stdout",
     "output_type": "stream",
     "text": [
      "R2score of the DecisionTreeRegressor is 0.9990283954275813\n",
      "Mean absolute error  of the DecisionTreeRegressor is 121.76684199200645\n",
      "Mean squared error of the DecisionTreeRegressor is 108152.108794424\n"
     ]
    }
   ],
   "source": [
    "DT = DecisionTreeRegressor()\n",
    "DT.fit(X_train, y_train)\n",
    "\n",
    "predicted_DT = DT.predict(X_test)\n",
    "print('R2score of the DecisionTreeRegressor is',r2_score(y_test,predicted_DT))\n",
    "\n",
    "print('Mean absolute error  of the DecisionTreeRegressor is',mean_absolute_error(y_test,predicted_DT))\n",
    "\n",
    "print('Mean squared error of the DecisionTreeRegressor is',mean_squared_error(y_test,predicted_DT))"
   ]
  },
  {
   "cell_type": "markdown",
   "id": "764999d4",
   "metadata": {},
   "source": [
    "#### Implementing RandomForestRegressor"
   ]
  },
  {
   "cell_type": "code",
   "execution_count": 31,
   "id": "b8cd0ce7",
   "metadata": {
    "scrolled": true
   },
   "outputs": [
    {
     "name": "stdout",
     "output_type": "stream",
     "text": [
      "building tree 1 of 100\n",
      "building tree 2 of 100\n",
      "building tree 3 of 100\n",
      "building tree 4 of 100\n",
      "building tree 5 of 100\n",
      "building tree 6 of 100\n",
      "building tree 7 of 100\n",
      "building tree 8 of 100\n",
      "building tree 9 of 100\n",
      "building tree 10 of 100\n",
      "building tree 11 of 100\n",
      "building tree 12 of 100\n",
      "building tree 13 of 100\n",
      "building tree 14 of 100\n",
      "building tree 15 of 100\n",
      "building tree 16 of 100\n",
      "building tree 17 of 100\n",
      "building tree 18 of 100\n",
      "building tree 19 of 100\n",
      "building tree 20 of 100\n",
      "building tree 21 of 100\n",
      "building tree 22 of 100\n",
      "building tree 23 of 100\n",
      "building tree 24 of 100\n",
      "building tree 25 of 100\n",
      "building tree 26 of 100\n",
      "building tree 27 of 100\n",
      "building tree 28 of 100\n",
      "building tree 29 of 100\n"
     ]
    },
    {
     "name": "stderr",
     "output_type": "stream",
     "text": [
      "[Parallel(n_jobs=1)]: Using backend SequentialBackend with 1 concurrent workers.\n",
      "[Parallel(n_jobs=1)]: Done   1 out of   1 | elapsed:    0.0s remaining:    0.0s\n"
     ]
    },
    {
     "name": "stdout",
     "output_type": "stream",
     "text": [
      "building tree 30 of 100\n",
      "building tree 31 of 100\n",
      "building tree 32 of 100\n",
      "building tree 33 of 100\n",
      "building tree 34 of 100\n",
      "building tree 35 of 100\n",
      "building tree 36 of 100\n",
      "building tree 37 of 100\n",
      "building tree 38 of 100\n",
      "building tree 39 of 100\n",
      "building tree 40 of 100\n",
      "building tree 41 of 100\n",
      "building tree 42 of 100\n",
      "building tree 43 of 100\n",
      "building tree 44 of 100\n",
      "building tree 45 of 100\n",
      "building tree 46 of 100\n",
      "building tree 47 of 100\n",
      "building tree 48 of 100\n",
      "building tree 49 of 100\n",
      "building tree 50 of 100\n",
      "building tree 51 of 100\n",
      "building tree 52 of 100\n",
      "building tree 53 of 100\n",
      "building tree 54 of 100\n",
      "building tree 55 of 100\n",
      "building tree 56 of 100\n",
      "building tree 57 of 100\n",
      "building tree 58 of 100\n",
      "building tree 59 of 100\n",
      "building tree 60 of 100\n",
      "building tree 61 of 100\n",
      "building tree 62 of 100\n",
      "building tree 63 of 100\n",
      "building tree 64 of 100\n",
      "building tree 65 of 100\n",
      "building tree 66 of 100\n",
      "building tree 67 of 100\n",
      "building tree 68 of 100\n",
      "building tree 69 of 100\n",
      "building tree 70 of 100\n",
      "building tree 71 of 100\n",
      "building tree 72 of 100\n",
      "building tree 73 of 100\n",
      "building tree 74 of 100\n",
      "building tree 75 of 100\n",
      "building tree 76 of 100\n",
      "building tree 77 of 100\n",
      "building tree 78 of 100\n",
      "building tree 79 of 100\n",
      "building tree 80 of 100\n",
      "building tree 81 of 100\n",
      "building tree 82 of 100\n",
      "building tree 83 of 100\n",
      "building tree 84 of 100\n",
      "building tree 85 of 100\n",
      "building tree 86 of 100\n",
      "building tree 87 of 100\n",
      "building tree 88 of 100\n",
      "building tree 89 of 100\n",
      "building tree 90 of 100\n",
      "building tree 91 of 100\n",
      "building tree 92 of 100\n",
      "building tree 93 of 100\n",
      "building tree 94 of 100\n",
      "building tree 95 of 100\n",
      "building tree 96 of 100\n",
      "building tree 97 of 100\n",
      "building tree 98 of 100\n",
      "building tree 99 of 100\n",
      "building tree 100 of 100\n",
      "R2score of the DecisionTreeRegressor is 0.9993790841685476\n",
      "Mean absolute error  of the DecisionTreeRegressor is 98.33774045526357\n",
      "Mean squared error of the DecisionTreeRegressor is 69115.9330263781\n"
     ]
    },
    {
     "name": "stderr",
     "output_type": "stream",
     "text": [
      "[Parallel(n_jobs=1)]: Done 100 out of 100 | elapsed:    0.4s finished\n",
      "[Parallel(n_jobs=1)]: Using backend SequentialBackend with 1 concurrent workers.\n",
      "[Parallel(n_jobs=1)]: Done   1 out of   1 | elapsed:    0.0s remaining:    0.0s\n",
      "[Parallel(n_jobs=1)]: Done 100 out of 100 | elapsed:    0.0s finished\n"
     ]
    }
   ],
   "source": [
    "RF = RandomForestRegressor(verbose=2)\n",
    "RF.fit(X_train, y_train)\n",
    "\n",
    "predicted_RF = RF.predict(X_test)\n",
    "print('R2score of the DecisionTreeRegressor is',r2_score(y_test,predicted_RF))\n",
    "\n",
    "print('Mean absolute error  of the DecisionTreeRegressor is',mean_absolute_error(y_test,predicted_RF))\n",
    "\n",
    "print('Mean squared error of the DecisionTreeRegressor is',mean_squared_error(y_test,predicted_RF))"
   ]
  },
  {
   "cell_type": "markdown",
   "id": "81dc0722",
   "metadata": {},
   "source": [
    "#### Implementing VotingRegressor"
   ]
  },
  {
   "cell_type": "code",
   "execution_count": 32,
   "id": "0db8efcf",
   "metadata": {},
   "outputs": [
    {
     "data": {
      "text/plain": [
       "VotingRegressor(estimators=[('XGBRegressor',\n",
       "                             XGBRegressor(base_score=None, booster=None,\n",
       "                                          callbacks=None,\n",
       "                                          colsample_bylevel=None,\n",
       "                                          colsample_bynode=None,\n",
       "                                          colsample_bytree=None,\n",
       "                                          early_stopping_rounds=None,\n",
       "                                          enable_categorical=False,\n",
       "                                          eval_metric=None, feature_types=None,\n",
       "                                          gamma=None, gpu_id=None,\n",
       "                                          grow_policy=None,\n",
       "                                          importance_type=None,\n",
       "                                          interaction_constraints=None,\n",
       "                                          lear...\n",
       "                                          max_cat_to_onehot=None,\n",
       "                                          max_delta_step=None, max_depth=None,\n",
       "                                          max_leaves=None,\n",
       "                                          min_child_weight=None, missing=nan,\n",
       "                                          monotone_constraints=None,\n",
       "                                          n_estimators=100, n_jobs=None,\n",
       "                                          num_parallel_tree=None,\n",
       "                                          predictor=None, random_state=None, ...)),\n",
       "                            ('CatBoostRegressor',\n",
       "                             <catboost.core.CatBoostRegressor object at 0x0000024D4E945E20>),\n",
       "                            ('AdaBoostRegressor', AdaBoostRegressor())])"
      ]
     },
     "execution_count": 32,
     "metadata": {},
     "output_type": "execute_result"
    }
   ],
   "source": [
    "XGR = XGBRegressor()\n",
    "CBR = CatBoostRegressor(verbose=0)\n",
    "Ada = AdaBoostRegressor()\n",
    "\n",
    "VotR = VotingRegressor([('XGBRegressor', XGR), ('CatBoostRegressor', CBR), ('AdaBoostRegressor', Ada)])\n",
    "VotR.fit(X_train, y_train)"
   ]
  },
  {
   "cell_type": "code",
   "execution_count": 33,
   "id": "ca528097",
   "metadata": {},
   "outputs": [
    {
     "name": "stdout",
     "output_type": "stream",
     "text": [
      "R2score of the Linear Regression is 0.998665857559733\n",
      "Mean absolute error  of the Linear Regression is 294.47404853955186\n",
      "Mean squared error of the Linear Regression is 148507.24506968507\n"
     ]
    }
   ],
   "source": [
    "predicted_VotR = VotR.predict(X_test)\n",
    "print('R2score of the Linear Regression is',r2_score(y_test,predicted_VotR))\n",
    "\n",
    "print('Mean absolute error  of the Linear Regression is',mean_absolute_error(y_test,predicted_VotR))\n",
    "\n",
    "print('Mean squared error of the Linear Regression is',mean_squared_error(y_test,predicted_VotR))"
   ]
  },
  {
   "cell_type": "markdown",
   "id": "57f4341a",
   "metadata": {},
   "source": [
    "# Building Model"
   ]
  },
  {
   "cell_type": "code",
   "execution_count": 34,
   "id": "824c9ad3",
   "metadata": {},
   "outputs": [
    {
     "data": {
      "text/plain": [
       "['model.pkl']"
      ]
     },
     "execution_count": 34,
     "metadata": {},
     "output_type": "execute_result"
    }
   ],
   "source": [
    "from joblib import dump, load\n",
    "dump(LinR, 'model.pkl')"
   ]
  },
  {
   "cell_type": "markdown",
   "id": "08dac299",
   "metadata": {},
   "source": [
    "# Prediction"
   ]
  },
  {
   "cell_type": "code",
   "execution_count": 35,
   "id": "2daff77e",
   "metadata": {},
   "outputs": [],
   "source": [
    "import numpy as np\n",
    "\n",
    "def predict(open_value, high_value, low_value):\n",
    "    inp_data = [open_value,high_value,low_value]\n",
    "    inp_data = np.array([inp_data])\n",
    "    output = model.predict(inp_data)\n",
    "    return output"
   ]
  },
  {
   "cell_type": "code",
   "execution_count": 36,
   "id": "c94cb0fe",
   "metadata": {},
   "outputs": [],
   "source": [
    "model = load('model.pkl')"
   ]
  },
  {
   "cell_type": "code",
   "execution_count": 37,
   "id": "3d2978a6",
   "metadata": {},
   "outputs": [
    {
     "data": {
      "text/plain": [
       "array([639.975  , 640.98125, 637.05375])"
      ]
     },
     "execution_count": 37,
     "metadata": {},
     "output_type": "execute_result"
    }
   ],
   "source": [
    "# To get the input value from the dataset\n",
    "X_test.values[56]"
   ]
  },
  {
   "cell_type": "code",
   "execution_count": 40,
   "id": "b0f55c7e",
   "metadata": {},
   "outputs": [
    {
     "name": "stdout",
     "output_type": "stream",
     "text": [
      "Enter the open value : 564.85\n",
      "Enter the open value : 455.45\n",
      "Enter the open value : 589.52\n"
     ]
    }
   ],
   "source": [
    "open_value = float(input(\"Enter the open value : \"))\n",
    "high_value = float(input(\"Enter the open value : \"))\n",
    "low_value = float(input(\"Enter the open value : \"))"
   ]
  },
  {
   "cell_type": "code",
   "execution_count": 41,
   "id": "a14f78e9",
   "metadata": {},
   "outputs": [
    {
     "name": "stdout",
     "output_type": "stream",
     "text": [
      "Predicted value 483.188807007164\n"
     ]
    }
   ],
   "source": [
    "out = predict(open_value,high_value,low_value)\n",
    "#print(f'Original value {y_test.values[56]}\\nPredicted value {out[0]}')\n",
    "print(f'Predicted value {out[0]}')"
   ]
  },
  {
   "cell_type": "code",
   "execution_count": null,
   "id": "4adf433e",
   "metadata": {},
   "outputs": [],
   "source": []
  }
 ],
 "metadata": {
  "kernelspec": {
   "display_name": "Python 3 (ipykernel)",
   "language": "python",
   "name": "python3"
  },
  "language_info": {
   "codemirror_mode": {
    "name": "ipython",
    "version": 3
   },
   "file_extension": ".py",
   "mimetype": "text/x-python",
   "name": "python",
   "nbconvert_exporter": "python",
   "pygments_lexer": "ipython3",
   "version": "3.9.13"
  }
 },
 "nbformat": 4,
 "nbformat_minor": 5
}
